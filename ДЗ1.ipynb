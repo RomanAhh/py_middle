{
 "cells": [
  {
   "cell_type": "code",
   "execution_count": 1,
   "id": "cec58724-87bc-4e63-b34d-8fdc08563624",
   "metadata": {},
   "outputs": [],
   "source": [
    "from pathlib import Path\n",
    "import json\n",
    "import sqlite3\n",
    "import zipfile"
   ]
  },
  {
   "cell_type": "code",
   "execution_count": 4,
   "id": "04ce2146-466b-4d69-be06-7acc21921e47",
   "metadata": {},
   "outputs": [],
   "source": [
    "path_db = Path('D:\\Разработка\\python middle\\hw1.db')"
   ]
  },
  {
   "cell_type": "code",
   "execution_count": 5,
   "id": "b816fd87-661a-4cad-abeb-eb866ded2cd3",
   "metadata": {},
   "outputs": [],
   "source": [
    "con = sqlite3.connect(path_db)"
   ]
  },
  {
   "cell_type": "code",
   "execution_count": 6,
   "id": "23b8c0c3-aa80-4ddb-b427-fdbf81acd72e",
   "metadata": {},
   "outputs": [],
   "source": [
    "cur = con.cursor()"
   ]
  },
  {
   "cell_type": "code",
   "execution_count": 65,
   "id": "5ec24aaf-2b86-42a2-9f2a-18896338d60d",
   "metadata": {},
   "outputs": [],
   "source": [
    "path_file = Path('D:\\Разработка\\python middle\\okved_2.json')"
   ]
  },
  {
   "cell_type": "code",
   "execution_count": 47,
   "id": "175b0ad3-11d4-4f2c-8aad-cceaf96406bc",
   "metadata": {},
   "outputs": [],
   "source": [
    "with open(path_file, 'r', encoding='utf-8') as f:\n",
    "    dictionary  = json.load(f)\n",
    "    for obj in dictionary:\n",
    "        cur.execute(\"INSERT INTO okved VALUES(?,?,?,?,?)\", list(obj.values()))\n",
    "        con.commit()"
   ]
  },
  {
   "cell_type": "code",
   "execution_count": null,
   "id": "f90108e1-4f2d-4276-a7b8-db5a7d354743",
   "metadata": {},
   "outputs": [],
   "source": []
  },
  {
   "cell_type": "code",
   "execution_count": 2,
   "id": "f053d453-c8ca-4ab9-b10f-46560c1cded1",
   "metadata": {},
   "outputs": [],
   "source": [
    "path_zip = Path('D:\\chrome downloads\\egrul.json.zip')"
   ]
  },
  {
   "cell_type": "code",
   "execution_count": null,
   "id": "c4302182-a6de-4f41-96e4-90f3cf1404e8",
   "metadata": {},
   "outputs": [],
   "source": [
    "with zipfile.ZipFile(path_zip, 'r') as zipobj:\n",
    "    file_names = zipobj.namelist()\n",
    "    i = 0\n",
    "    x = len(file_names)\n",
    "    for name in file_names:\n",
    "        # Распаковываем один файл\n",
    "        zipobj.extract(name)\n",
    "        # Обрабатываем файл\n",
    "        with open(name, 'r', encoding='utf-8') as f:\n",
    "            dictionary  = json.load(f)\n",
    "            for obj in dictionary:\n",
    "                try:\n",
    "                    okved = obj['data']['СвОКВЭД']['СвОКВЭДОсн']['КодОКВЭД']\n",
    "                except KeyError:\n",
    "                    continue\n",
    "                finally:\n",
    "                    if okved.split('.')[0] == '61':\n",
    "                        #print(okved)\n",
    "                        telecom = [obj.get('inn'), obj.get('name'), obj.get('full_name'), okved, obj.get('kpp')]\n",
    "                        cur.execute(\"INSERT INTO telecom_companies VALUES(?,?,?,?,?)\", telecom)\n",
    "        con.commit()\n",
    "        print('file '+ str(name) +' done! '+str(i)+' из '+ str(x))\n",
    "        i += 1\n",
    "        # Удаляем файл\n",
    "        path = Path(name)\n",
    "        path.unlink()"
   ]
  },
  {
   "cell_type": "code",
   "execution_count": null,
   "id": "9d4df3ae-a1a9-4af6-9a78-f940b61c553c",
   "metadata": {},
   "outputs": [],
   "source": ["cur.close()"]
  },
  {
   "cell_type": "code",
   "execution_count": null,
   "id": "ac8a3945-cd70-4a58-881e-9a1145157282",
   "metadata": {},
   "outputs": [],
   "source": ["con.close()"]
  },
  {
   "cell_type": "code",
   "execution_count": null,
   "id": "67f3c699-1af0-453d-9b23-1899198e765d",
   "metadata": {},
   "outputs": [],
   "source": []
  },
  {
   "cell_type": "code",
   "execution_count": null,
   "id": "0db0fdba-33fc-43c0-ae77-10f9b0122ad8",
   "metadata": {},
   "outputs": [],
   "source": [
    "\n"
   ]
  },
  {
   "cell_type": "code",
   "execution_count": null,
   "id": "41918c59-5d42-4f10-9a5a-6b24fee64be3",
   "metadata": {},
   "outputs": [],
   "source": []
  }
 ],
 "metadata": {
  "kernelspec": {
   "display_name": "Python 3 (ipykernel)",
   "language": "python",
   "name": "python3"
  },
  "language_info": {
   "codemirror_mode": {
    "name": "ipython",
    "version": 3
   },
   "file_extension": ".py",
   "mimetype": "text/x-python",
   "name": "python",
   "nbconvert_exporter": "python",
   "pygments_lexer": "ipython3",
   "version": "3.8.3"
  }
 },
 "nbformat": 4,
 "nbformat_minor": 5
}
