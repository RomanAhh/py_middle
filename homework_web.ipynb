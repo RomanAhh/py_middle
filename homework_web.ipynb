{
 "cells": [
  {
   "cell_type": "code",
   "execution_count": 1,
   "metadata": {},
   "outputs": [],
   "source": [
    "import requests\n",
    "from bs4 import BeautifulSoup\n",
    "import time"
   ]
  },
  {
   "cell_type": "code",
   "execution_count": 2,
   "metadata": {},
   "outputs": [],
   "source": [
    "from sqlalchemy.orm import Session\n",
    "from sqlalchemy import create_engine\n",
    "from sqlalchemy.ext.declarative import declarative_base\n",
    "from sqlalchemy import Column, Integer, String"
   ]
  },
  {
   "cell_type": "code",
   "execution_count": 3,
   "metadata": {},
   "outputs": [
    {
     "name": "stderr",
     "output_type": "stream",
     "text": [
      "C:\\Users\\ilove\\AppData\\Local\\Temp\\ipykernel_15380\\3642724841.py:2: MovedIn20Warning: The ``declarative_base()`` function is now available as sqlalchemy.orm.declarative_base(). (deprecated since: 2.0) (Background on SQLAlchemy 2.0 at: https://sqlalche.me/e/b8d9)\n",
      "  Base = declarative_base()\n"
     ]
    }
   ],
   "source": [
    "engine = create_engine(\"sqlite:///vacancy.db\")\n",
    "Base = declarative_base()"
   ]
  },
  {
   "cell_type": "code",
   "execution_count": 4,
   "metadata": {},
   "outputs": [],
   "source": [
    "class Vacancy(Base):\n",
    "    __tablename__ = 'py_middle'\n",
    "    id = Column(Integer, primary_key=True, autoincrement=True)\n",
    "    position = Column(String(256))\n",
    "    company_name = Column(String(256))\n",
    "    job_description = Column(String(1024))\n",
    "    key_skills = Column(String(256))"
   ]
  },
  {
   "cell_type": "code",
   "execution_count": 5,
   "metadata": {},
   "outputs": [],
   "source": [
    "Base.metadata.create_all(engine)"
   ]
  },
  {
   "cell_type": "code",
   "execution_count": 6,
   "metadata": {},
   "outputs": [],
   "source": [
    "url = 'https://hh.ru/search/vacancy?no_magic=true&L_save_area=true&text=middle+python+developer&search_field=name'\n",
    "user_agent = {'User-agent': 'Mozilla/5.0'}"
   ]
  },
  {
   "cell_type": "code",
   "execution_count": 7,
   "metadata": {},
   "outputs": [],
   "source": [
    "result = requests.get(url, headers=user_agent)"
   ]
  },
  {
   "cell_type": "code",
   "execution_count": 8,
   "metadata": {},
   "outputs": [],
   "source": [
    "# Создаем объект soup на основе загруженной Web-страницы\n",
    "soup = BeautifulSoup(result.content.decode(), \"html.parser\")"
   ]
  },
  {
   "cell_type": "code",
   "execution_count": 9,
   "metadata": {},
   "outputs": [],
   "source": [
    "name = soup.findAll('a', attrs={'data-qa': 'serp-item__title'})"
   ]
  },
  {
   "cell_type": "code",
   "execution_count": 10,
   "metadata": {},
   "outputs": [
    {
     "name": "stdout",
     "output_type": "stream",
     "text": [
      "https://kazan.hh.ru/vacancy/82247456?from=vacancy_search_list&query=middle+python+developer\n",
      "https://kazan.hh.ru/vacancy/82596275?from=vacancy_search_list&query=middle+python+developer\n",
      "https://kazan.hh.ru/vacancy/81949300?from=vacancy_search_list&query=middle+python+developer\n",
      "https://kazan.hh.ru/vacancy/81941871?from=vacancy_search_list&query=middle+python+developer\n",
      "https://kazan.hh.ru/vacancy/81780083?from=vacancy_search_list&query=middle+python+developer\n",
      "https://kazan.hh.ru/vacancy/82440741?from=vacancy_search_list&query=middle+python+developer\n",
      "https://kazan.hh.ru/vacancy/82144211?from=vacancy_search_list&query=middle+python+developer\n",
      "https://kazan.hh.ru/vacancy/82260854?from=vacancy_search_list&query=middle+python+developer\n",
      "https://kazan.hh.ru/vacancy/82144205?from=vacancy_search_list&query=middle+python+developer\n",
      "https://kazan.hh.ru/vacancy/82119779?from=vacancy_search_list&query=middle+python+developer\n",
      "https://kazan.hh.ru/vacancy/82055830?from=vacancy_search_list&query=middle+python+developer\n",
      "https://kazan.hh.ru/vacancy/82144208?from=vacancy_search_list&query=middle+python+developer\n",
      "https://kazan.hh.ru/vacancy/82525826?from=vacancy_search_list&query=middle+python+developer\n",
      "https://kazan.hh.ru/vacancy/82144206?from=vacancy_search_list&query=middle+python+developer\n",
      "https://kazan.hh.ru/vacancy/82573094?from=vacancy_search_list&query=middle+python+developer\n",
      "https://kazan.hh.ru/vacancy/82172506?from=vacancy_search_list&query=middle+python+developer\n",
      "https://kazan.hh.ru/vacancy/82467015?from=vacancy_search_list&query=middle+python+developer\n",
      "https://kazan.hh.ru/vacancy/82144207?from=vacancy_search_list&query=middle+python+developer\n",
      "https://kazan.hh.ru/vacancy/82402579?from=vacancy_search_list&query=middle+python+developer\n",
      "https://kazan.hh.ru/vacancy/82144209?from=vacancy_search_list&query=middle+python+developer\n"
     ]
    }
   ],
   "source": [
    "session = Session(bind=engine, expire_on_commit=False)\n",
    "for i in name:\n",
    "    position = i.text\n",
    "    link = i.attrs['href']\n",
    "    res = requests.get(link, headers=user_agent)\n",
    "    soup2 = BeautifulSoup(res.content.decode(), \"html.parser\")\n",
    "    print(i.attrs['href'])\n",
    "    company_name = soup2.find('span', attrs={'class': 'vacancy-company-name'}).text\n",
    "    job_description = soup2.find('div', attrs={'data-qa': 'vacancy-description'}).text\n",
    "    key_skills = list()\n",
    "    for j in soup2.findAll('div', attrs={'class': 'bloko-tag bloko-tag_inline'}):\n",
    "        key_skills.append(j.text)\n",
    "    key_skills = str(key_skills)\n",
    "    vac = Vacancy(position = position, company_name=company_name, job_description=job_description, key_skills=key_skills)\n",
    "    session.add(vac)\n",
    "    time.sleep(0.5)\n",
    "session.commit()\n",
    "session.close()"
   ]
  },
  {
   "cell_type": "code",
   "execution_count": null,
   "metadata": {},
   "outputs": [],
   "source": []
  }
 ],
 "metadata": {
  "kernelspec": {
   "display_name": "Python 3",
   "language": "python",
   "name": "python3"
  },
  "language_info": {
   "codemirror_mode": {
    "name": "ipython",
    "version": 3
   },
   "file_extension": ".py",
   "mimetype": "text/x-python",
   "name": "python",
   "nbconvert_exporter": "python",
   "pygments_lexer": "ipython3",
   "version": "3.9.7"
  },
  "orig_nbformat": 4
 },
 "nbformat": 4,
 "nbformat_minor": 2
}
